{
 "cells": [
  {
   "cell_type": "code",
   "execution_count": 75,
   "metadata": {},
   "outputs": [],
   "source": [
    "import pandas as pd\n",
    "import numpy as np\n",
    "\n",
    "from matplotlib import pyplot as plt\n",
    "from matplotlib.axes._axes import _log as matplotlib_axes_logger\n",
    "matplotlib_axes_logger.setLevel('ERROR')\n",
    "\n",
    "import seaborn as sns\n",
    "\n",
    "import plotly.express as px"
   ]
  },
  {
   "cell_type": "code",
   "execution_count": 2,
   "metadata": {},
   "outputs": [],
   "source": [
    "df = pd.read_csv('netflix_titles_nov_2019_cleaned_3_yearmonth.csv', encoding='cp1252')"
   ]
  },
  {
   "cell_type": "code",
   "execution_count": 3,
   "metadata": {},
   "outputs": [
    {
     "data": {
      "text/plain": [
       "2008"
      ]
     },
     "execution_count": 3,
     "metadata": {},
     "output_type": "execute_result"
    }
   ],
   "source": [
    "df['Year'].min()"
   ]
  },
  {
   "cell_type": "code",
   "execution_count": 4,
   "metadata": {},
   "outputs": [
    {
     "data": {
      "text/html": [
       "<div>\n",
       "<style scoped>\n",
       "    .dataframe tbody tr th:only-of-type {\n",
       "        vertical-align: middle;\n",
       "    }\n",
       "\n",
       "    .dataframe tbody tr th {\n",
       "        vertical-align: top;\n",
       "    }\n",
       "\n",
       "    .dataframe thead th {\n",
       "        text-align: right;\n",
       "    }\n",
       "</style>\n",
       "<table border=\"1\" class=\"dataframe\">\n",
       "  <thead>\n",
       "    <tr style=\"text-align: right;\">\n",
       "      <th></th>\n",
       "      <th>show_id</th>\n",
       "      <th>title</th>\n",
       "      <th>director</th>\n",
       "      <th>cast</th>\n",
       "      <th>country</th>\n",
       "      <th>date_added</th>\n",
       "      <th>filled_date</th>\n",
       "      <th>release_year</th>\n",
       "      <th>rating</th>\n",
       "      <th>duration</th>\n",
       "      <th>listed_in</th>\n",
       "      <th>description</th>\n",
       "      <th>type</th>\n",
       "      <th>Year_Month</th>\n",
       "      <th>Year</th>\n",
       "      <th>Month</th>\n",
       "    </tr>\n",
       "  </thead>\n",
       "  <tbody>\n",
       "    <tr>\n",
       "      <th>0</th>\n",
       "      <td>81193313</td>\n",
       "      <td>Chocolate</td>\n",
       "      <td>unknown</td>\n",
       "      <td>Ha Ji-won, Yoon Kye-sang, Jang Seung-jo, Kang ...</td>\n",
       "      <td>South Korea</td>\n",
       "      <td>30/11/2019 00:00</td>\n",
       "      <td>43799</td>\n",
       "      <td>2019</td>\n",
       "      <td>TV-14</td>\n",
       "      <td>1 Season</td>\n",
       "      <td>International TV Shows, Korean TV Shows, Roman...</td>\n",
       "      <td>Brought together by meaningful meals in the pa...</td>\n",
       "      <td>TV Show</td>\n",
       "      <td>2019-11</td>\n",
       "      <td>2019</td>\n",
       "      <td>11</td>\n",
       "    </tr>\n",
       "    <tr>\n",
       "      <th>1</th>\n",
       "      <td>81197050</td>\n",
       "      <td>Guatemala: Heart of the Mayan World</td>\n",
       "      <td>Luis Ara, Ignacio Jaunsolo</td>\n",
       "      <td>Christian Morales</td>\n",
       "      <td>unknown</td>\n",
       "      <td>30/11/2019 00:00</td>\n",
       "      <td>43799</td>\n",
       "      <td>2019</td>\n",
       "      <td>TV-G</td>\n",
       "      <td>67 min</td>\n",
       "      <td>Documentaries, International Movies</td>\n",
       "      <td>From Sierra de las Minas to Esquipulas, explor...</td>\n",
       "      <td>Movie</td>\n",
       "      <td>2019-11</td>\n",
       "      <td>2019</td>\n",
       "      <td>11</td>\n",
       "    </tr>\n",
       "    <tr>\n",
       "      <th>2</th>\n",
       "      <td>81213894</td>\n",
       "      <td>The Zoya Factor</td>\n",
       "      <td>Abhishek Sharma</td>\n",
       "      <td>Sonam Kapoor, Dulquer Salmaan, Sanjay Kapoor, ...</td>\n",
       "      <td>India</td>\n",
       "      <td>30/11/2019 00:00</td>\n",
       "      <td>43799</td>\n",
       "      <td>2019</td>\n",
       "      <td>TV-14</td>\n",
       "      <td>135 min</td>\n",
       "      <td>Comedies, Dramas, International Movies</td>\n",
       "      <td>A goofy copywriter unwittingly convinces the I...</td>\n",
       "      <td>Movie</td>\n",
       "      <td>2019-11</td>\n",
       "      <td>2019</td>\n",
       "      <td>11</td>\n",
       "    </tr>\n",
       "    <tr>\n",
       "      <th>3</th>\n",
       "      <td>81082007</td>\n",
       "      <td>Atlantics</td>\n",
       "      <td>Mati Diop</td>\n",
       "      <td>Mama Sane, Amadou Mbow, Ibrahima Traore, Nicol...</td>\n",
       "      <td>France, Senegal, Belgium</td>\n",
       "      <td>29/11/2019 00:00</td>\n",
       "      <td>43798</td>\n",
       "      <td>2019</td>\n",
       "      <td>TV-14</td>\n",
       "      <td>106 min</td>\n",
       "      <td>Dramas, Independent Movies, International Movies</td>\n",
       "      <td>Arranged to marry a rich man, young Ada is cru...</td>\n",
       "      <td>Movie</td>\n",
       "      <td>2019-11</td>\n",
       "      <td>2019</td>\n",
       "      <td>11</td>\n",
       "    </tr>\n",
       "    <tr>\n",
       "      <th>4</th>\n",
       "      <td>80213643</td>\n",
       "      <td>Chip and Potato</td>\n",
       "      <td>unknown</td>\n",
       "      <td>Abigail Oliver, Andrea Libman, Briana Buckmast...</td>\n",
       "      <td>Canada, United Kingdom</td>\n",
       "      <td>NaN</td>\n",
       "      <td>43798</td>\n",
       "      <td>2019</td>\n",
       "      <td>TV-Y</td>\n",
       "      <td>2 Seasons</td>\n",
       "      <td>Kids' TV</td>\n",
       "      <td>Lovable pug Chip starts kindergarten, makes ne...</td>\n",
       "      <td>TV Show</td>\n",
       "      <td>2019-11</td>\n",
       "      <td>2019</td>\n",
       "      <td>11</td>\n",
       "    </tr>\n",
       "  </tbody>\n",
       "</table>\n",
       "</div>"
      ],
      "text/plain": [
       "    show_id                                title                    director  \\\n",
       "0  81193313                            Chocolate                     unknown   \n",
       "1  81197050  Guatemala: Heart of the Mayan World  Luis Ara, Ignacio Jaunsolo   \n",
       "2  81213894                      The Zoya Factor             Abhishek Sharma   \n",
       "3  81082007                            Atlantics                   Mati Diop   \n",
       "4  80213643                      Chip and Potato                     unknown   \n",
       "\n",
       "                                                cast  \\\n",
       "0  Ha Ji-won, Yoon Kye-sang, Jang Seung-jo, Kang ...   \n",
       "1                                  Christian Morales   \n",
       "2  Sonam Kapoor, Dulquer Salmaan, Sanjay Kapoor, ...   \n",
       "3  Mama Sane, Amadou Mbow, Ibrahima Traore, Nicol...   \n",
       "4  Abigail Oliver, Andrea Libman, Briana Buckmast...   \n",
       "\n",
       "                    country        date_added  filled_date  release_year  \\\n",
       "0               South Korea  30/11/2019 00:00        43799          2019   \n",
       "1                   unknown  30/11/2019 00:00        43799          2019   \n",
       "2                     India  30/11/2019 00:00        43799          2019   \n",
       "3  France, Senegal, Belgium  29/11/2019 00:00        43798          2019   \n",
       "4    Canada, United Kingdom               NaN        43798          2019   \n",
       "\n",
       "  rating   duration                                          listed_in  \\\n",
       "0  TV-14   1 Season  International TV Shows, Korean TV Shows, Roman...   \n",
       "1   TV-G     67 min                Documentaries, International Movies   \n",
       "2  TV-14    135 min             Comedies, Dramas, International Movies   \n",
       "3  TV-14    106 min   Dramas, Independent Movies, International Movies   \n",
       "4   TV-Y  2 Seasons                                           Kids' TV   \n",
       "\n",
       "                                         description     type Year_Month  \\\n",
       "0  Brought together by meaningful meals in the pa...  TV Show    2019-11   \n",
       "1  From Sierra de las Minas to Esquipulas, explor...    Movie    2019-11   \n",
       "2  A goofy copywriter unwittingly convinces the I...    Movie    2019-11   \n",
       "3  Arranged to marry a rich man, young Ada is cru...    Movie    2019-11   \n",
       "4  Lovable pug Chip starts kindergarten, makes ne...  TV Show    2019-11   \n",
       "\n",
       "   Year  Month  \n",
       "0  2019     11  \n",
       "1  2019     11  \n",
       "2  2019     11  \n",
       "3  2019     11  \n",
       "4  2019     11  "
      ]
     },
     "execution_count": 4,
     "metadata": {},
     "output_type": "execute_result"
    }
   ],
   "source": [
    "# earliest year added is 2008\n",
    "# therefore filter for only films released from 2008 onwards\n",
    "released2008 = df[df['release_year'] >= 2008]\n",
    "\n",
    "released2008.head()"
   ]
  },
  {
   "cell_type": "code",
   "execution_count": 5,
   "metadata": {},
   "outputs": [
    {
     "name": "stderr",
     "output_type": "stream",
     "text": [
      "C:\\Users\\NM2.DHU65ATF\\AppData\\Local\\Temp\\ipykernel_23252\\3188164802.py:2: SettingWithCopyWarning: \n",
      "A value is trying to be set on a copy of a slice from a DataFrame.\n",
      "Try using .loc[row_indexer,col_indexer] = value instead\n",
      "\n",
      "See the caveats in the documentation: https://pandas.pydata.org/pandas-docs/stable/user_guide/indexing.html#returning-a-view-versus-a-copy\n",
      "  released2008['yr_diff'] = released2008['Year'] - released2008['release_year']\n"
     ]
    },
    {
     "data": {
      "text/html": [
       "<div>\n",
       "<style scoped>\n",
       "    .dataframe tbody tr th:only-of-type {\n",
       "        vertical-align: middle;\n",
       "    }\n",
       "\n",
       "    .dataframe tbody tr th {\n",
       "        vertical-align: top;\n",
       "    }\n",
       "\n",
       "    .dataframe thead th {\n",
       "        text-align: right;\n",
       "    }\n",
       "</style>\n",
       "<table border=\"1\" class=\"dataframe\">\n",
       "  <thead>\n",
       "    <tr style=\"text-align: right;\">\n",
       "      <th></th>\n",
       "      <th>show_id</th>\n",
       "      <th>title</th>\n",
       "      <th>director</th>\n",
       "      <th>cast</th>\n",
       "      <th>country</th>\n",
       "      <th>date_added</th>\n",
       "      <th>filled_date</th>\n",
       "      <th>release_year</th>\n",
       "      <th>rating</th>\n",
       "      <th>duration</th>\n",
       "      <th>listed_in</th>\n",
       "      <th>description</th>\n",
       "      <th>type</th>\n",
       "      <th>Year_Month</th>\n",
       "      <th>Year</th>\n",
       "      <th>Month</th>\n",
       "      <th>yr_diff</th>\n",
       "    </tr>\n",
       "  </thead>\n",
       "  <tbody>\n",
       "    <tr>\n",
       "      <th>0</th>\n",
       "      <td>81193313</td>\n",
       "      <td>Chocolate</td>\n",
       "      <td>unknown</td>\n",
       "      <td>Ha Ji-won, Yoon Kye-sang, Jang Seung-jo, Kang ...</td>\n",
       "      <td>South Korea</td>\n",
       "      <td>30/11/2019 00:00</td>\n",
       "      <td>43799</td>\n",
       "      <td>2019</td>\n",
       "      <td>TV-14</td>\n",
       "      <td>1 Season</td>\n",
       "      <td>International TV Shows, Korean TV Shows, Roman...</td>\n",
       "      <td>Brought together by meaningful meals in the pa...</td>\n",
       "      <td>TV Show</td>\n",
       "      <td>2019-11</td>\n",
       "      <td>2019</td>\n",
       "      <td>11</td>\n",
       "      <td>0</td>\n",
       "    </tr>\n",
       "    <tr>\n",
       "      <th>1</th>\n",
       "      <td>81197050</td>\n",
       "      <td>Guatemala: Heart of the Mayan World</td>\n",
       "      <td>Luis Ara, Ignacio Jaunsolo</td>\n",
       "      <td>Christian Morales</td>\n",
       "      <td>unknown</td>\n",
       "      <td>30/11/2019 00:00</td>\n",
       "      <td>43799</td>\n",
       "      <td>2019</td>\n",
       "      <td>TV-G</td>\n",
       "      <td>67 min</td>\n",
       "      <td>Documentaries, International Movies</td>\n",
       "      <td>From Sierra de las Minas to Esquipulas, explor...</td>\n",
       "      <td>Movie</td>\n",
       "      <td>2019-11</td>\n",
       "      <td>2019</td>\n",
       "      <td>11</td>\n",
       "      <td>0</td>\n",
       "    </tr>\n",
       "    <tr>\n",
       "      <th>2</th>\n",
       "      <td>81213894</td>\n",
       "      <td>The Zoya Factor</td>\n",
       "      <td>Abhishek Sharma</td>\n",
       "      <td>Sonam Kapoor, Dulquer Salmaan, Sanjay Kapoor, ...</td>\n",
       "      <td>India</td>\n",
       "      <td>30/11/2019 00:00</td>\n",
       "      <td>43799</td>\n",
       "      <td>2019</td>\n",
       "      <td>TV-14</td>\n",
       "      <td>135 min</td>\n",
       "      <td>Comedies, Dramas, International Movies</td>\n",
       "      <td>A goofy copywriter unwittingly convinces the I...</td>\n",
       "      <td>Movie</td>\n",
       "      <td>2019-11</td>\n",
       "      <td>2019</td>\n",
       "      <td>11</td>\n",
       "      <td>0</td>\n",
       "    </tr>\n",
       "    <tr>\n",
       "      <th>3</th>\n",
       "      <td>81082007</td>\n",
       "      <td>Atlantics</td>\n",
       "      <td>Mati Diop</td>\n",
       "      <td>Mama Sane, Amadou Mbow, Ibrahima Traore, Nicol...</td>\n",
       "      <td>France, Senegal, Belgium</td>\n",
       "      <td>29/11/2019 00:00</td>\n",
       "      <td>43798</td>\n",
       "      <td>2019</td>\n",
       "      <td>TV-14</td>\n",
       "      <td>106 min</td>\n",
       "      <td>Dramas, Independent Movies, International Movies</td>\n",
       "      <td>Arranged to marry a rich man, young Ada is cru...</td>\n",
       "      <td>Movie</td>\n",
       "      <td>2019-11</td>\n",
       "      <td>2019</td>\n",
       "      <td>11</td>\n",
       "      <td>0</td>\n",
       "    </tr>\n",
       "    <tr>\n",
       "      <th>4</th>\n",
       "      <td>80213643</td>\n",
       "      <td>Chip and Potato</td>\n",
       "      <td>unknown</td>\n",
       "      <td>Abigail Oliver, Andrea Libman, Briana Buckmast...</td>\n",
       "      <td>Canada, United Kingdom</td>\n",
       "      <td>NaN</td>\n",
       "      <td>43798</td>\n",
       "      <td>2019</td>\n",
       "      <td>TV-Y</td>\n",
       "      <td>2 Seasons</td>\n",
       "      <td>Kids' TV</td>\n",
       "      <td>Lovable pug Chip starts kindergarten, makes ne...</td>\n",
       "      <td>TV Show</td>\n",
       "      <td>2019-11</td>\n",
       "      <td>2019</td>\n",
       "      <td>11</td>\n",
       "      <td>0</td>\n",
       "    </tr>\n",
       "  </tbody>\n",
       "</table>\n",
       "</div>"
      ],
      "text/plain": [
       "    show_id                                title                    director  \\\n",
       "0  81193313                            Chocolate                     unknown   \n",
       "1  81197050  Guatemala: Heart of the Mayan World  Luis Ara, Ignacio Jaunsolo   \n",
       "2  81213894                      The Zoya Factor             Abhishek Sharma   \n",
       "3  81082007                            Atlantics                   Mati Diop   \n",
       "4  80213643                      Chip and Potato                     unknown   \n",
       "\n",
       "                                                cast  \\\n",
       "0  Ha Ji-won, Yoon Kye-sang, Jang Seung-jo, Kang ...   \n",
       "1                                  Christian Morales   \n",
       "2  Sonam Kapoor, Dulquer Salmaan, Sanjay Kapoor, ...   \n",
       "3  Mama Sane, Amadou Mbow, Ibrahima Traore, Nicol...   \n",
       "4  Abigail Oliver, Andrea Libman, Briana Buckmast...   \n",
       "\n",
       "                    country        date_added  filled_date  release_year  \\\n",
       "0               South Korea  30/11/2019 00:00        43799          2019   \n",
       "1                   unknown  30/11/2019 00:00        43799          2019   \n",
       "2                     India  30/11/2019 00:00        43799          2019   \n",
       "3  France, Senegal, Belgium  29/11/2019 00:00        43798          2019   \n",
       "4    Canada, United Kingdom               NaN        43798          2019   \n",
       "\n",
       "  rating   duration                                          listed_in  \\\n",
       "0  TV-14   1 Season  International TV Shows, Korean TV Shows, Roman...   \n",
       "1   TV-G     67 min                Documentaries, International Movies   \n",
       "2  TV-14    135 min             Comedies, Dramas, International Movies   \n",
       "3  TV-14    106 min   Dramas, Independent Movies, International Movies   \n",
       "4   TV-Y  2 Seasons                                           Kids' TV   \n",
       "\n",
       "                                         description     type Year_Month  \\\n",
       "0  Brought together by meaningful meals in the pa...  TV Show    2019-11   \n",
       "1  From Sierra de las Minas to Esquipulas, explor...    Movie    2019-11   \n",
       "2  A goofy copywriter unwittingly convinces the I...    Movie    2019-11   \n",
       "3  Arranged to marry a rich man, young Ada is cru...    Movie    2019-11   \n",
       "4  Lovable pug Chip starts kindergarten, makes ne...  TV Show    2019-11   \n",
       "\n",
       "   Year  Month  yr_diff  \n",
       "0  2019     11        0  \n",
       "1  2019     11        0  \n",
       "2  2019     11        0  \n",
       "3  2019     11        0  \n",
       "4  2019     11        0  "
      ]
     },
     "execution_count": 5,
     "metadata": {},
     "output_type": "execute_result"
    }
   ],
   "source": [
    "# calculate difference between release year and year added\n",
    "released2008['yr_diff'] = released2008['Year'] - released2008['release_year']\n",
    "\n",
    "released2008.head()"
   ]
  },
  {
   "cell_type": "code",
   "execution_count": 6,
   "metadata": {},
   "outputs": [
    {
     "data": {
      "text/plain": [
       "count    5210.000000\n",
       "mean        1.914971\n",
       "std         2.591809\n",
       "min        -3.000000\n",
       "25%         0.000000\n",
       "50%         1.000000\n",
       "75%         3.000000\n",
       "max        11.000000\n",
       "Name: yr_diff, dtype: float64"
      ]
     },
     "execution_count": 6,
     "metadata": {},
     "output_type": "execute_result"
    }
   ],
   "source": [
    "released2008['yr_diff'].describe()"
   ]
  },
  {
   "cell_type": "code",
   "execution_count": 7,
   "metadata": {},
   "outputs": [],
   "source": [
    "# ignore cases where year added < release year, as assume this is erroneous\n",
    "released2008_filter = released2008[released2008['yr_diff'] >= 0]"
   ]
  },
  {
   "cell_type": "code",
   "execution_count": 8,
   "metadata": {},
   "outputs": [
    {
     "data": {
      "text/plain": [
       "count    5201.000000\n",
       "mean        1.920592\n",
       "std         2.590374\n",
       "min         0.000000\n",
       "25%         0.000000\n",
       "50%         1.000000\n",
       "75%         3.000000\n",
       "max        11.000000\n",
       "Name: yr_diff, dtype: float64"
      ]
     },
     "execution_count": 8,
     "metadata": {},
     "output_type": "execute_result"
    }
   ],
   "source": [
    "released2008_filter['yr_diff'].describe()"
   ]
  },
  {
   "cell_type": "code",
   "execution_count": 9,
   "metadata": {},
   "outputs": [
    {
     "data": {
      "image/png": "[encoded data removed]",
      "text/plain": [
       "<Figure size 640x480 with 1 Axes>"
      ]
     },
     "metadata": {},
     "output_type": "display_data"
    }
   ],
   "source": [
    "# count of titles by difference between year added and released\n",
    "title_by_yr_diff = released2008_filter.groupby('yr_diff')['title'].count()\n",
    "\n",
    "plt.figure()\n",
    "title_by_yr_diff.plot.bar()\n",
    "\n",
    "plt.show();"
   ]
  },
  {
   "cell_type": "code",
   "execution_count": 10,
   "metadata": {},
   "outputs": [
    {
     "data": {
      "image/png": "[encoded data removed]",
      "text/plain": [
       "<Figure size 640x480 with 1 Axes>"
      ]
     },
     "metadata": {},
     "output_type": "display_data"
    }
   ],
   "source": [
    "# count of titles by year difference and type\n",
    "title_by_yr_diff_type = released2008_filter.groupby(['type', 'yr_diff'])['title'].count().reset_index()\n",
    "\n",
    "plt.figure()\n",
    "sns.barplot(data = title_by_yr_diff_type, \n",
    "            x = 'yr_diff', \n",
    "            y = 'title', \n",
    "            hue = 'type')\n",
    "plt.ylabel('Count of titles')\n",
    "plt.xlabel(None)\n",
    "\n",
    "plt.show();"
   ]
  },
  {
   "cell_type": "code",
   "execution_count": 23,
   "metadata": {},
   "outputs": [
    {
     "data": {
      "image/png": "[encoded data removed]",
      "text/plain": [
       "<Figure size 640x480 with 1 Axes>"
      ]
     },
     "metadata": {},
     "output_type": "display_data"
    }
   ],
   "source": [
    "# percentage of titles released by year difference and type\n",
    "title_by_yr_diff_type_wide = title_by_yr_diff_type.pivot_table(\n",
    "    index = 'yr_diff', \n",
    "    columns = 'type', \n",
    "    values = 'title'\n",
    ")\n",
    "\n",
    "movie_total = title_by_yr_diff_type_wide['Movie'].sum()\n",
    "\n",
    "tv_total = title_by_yr_diff_type_wide['TV Show'].sum()\n",
    "\n",
    "title_by_yr_diff_type_wide['movie_pct'] = title_by_yr_diff_type_wide['Movie'] / movie_total\n",
    "\n",
    "title_by_yr_diff_type_wide['tv_pct'] = title_by_yr_diff_type_wide['TV Show'] / movie_total\n",
    "\n",
    "title_by_yr_diff_type_long = pd.melt(title_by_yr_diff_type_wide.reset_index(), id_vars = 'yr_diff', value_vars = ['movie_pct', 'tv_pct'])\n",
    "\n",
    "title_by_yr_diff_type_long = title_by_yr_diff_type_long.replace('movie_pct', 'Movies')\n",
    "\n",
    "title_by_yr_diff_type_long = title_by_yr_diff_type_long.replace('tv_pct', 'TV Shows')\n",
    "\n",
    "plt.figure()\n",
    "sns.barplot(data = title_by_yr_diff_type_long, \n",
    "            x = 'yr_diff', \n",
    "            y = 'value', \n",
    "            hue = 'type')\n",
    "plt.title('Percentage of titles by difference between year released and added to Netflix')\n",
    "plt.ylabel('Percentage of titles')\n",
    "plt.xlabel('Number of years difference')\n",
    "plt.legend().set_title('')\n",
    "\n",
    "plt.show();"
   ]
  },
  {
   "cell_type": "code",
   "execution_count": 105,
   "metadata": {},
   "outputs": [
    {
     "data": {
      "text/plain": [
       "<Figure size 640x480 with 0 Axes>"
      ]
     },
     "metadata": {},
     "output_type": "display_data"
    },
    {
     "data": {
      "image/png": "[encoded data removed]",
      "text/plain": [
       "<Figure size 640x480 with 1 Axes>"
      ]
     },
     "metadata": {},
     "output_type": "display_data"
    }
   ],
   "source": [
    "# average year difference by type\n",
    "avg_yr_diff = released2008_filter.groupby('type')['yr_diff'].mean().reset_index()\n",
    "\n",
    "st_dev = released2008_filter.groupby('type')['yr_diff'].std().reset_index().rename({'yr_diff': 'std_dev'}, axis = 1)\n",
    "n = released2008_filter.groupby('type')['yr_diff'].count().reset_index().rename({'yr_diff': 'n'}, axis = 1)\n",
    "movie_n = len(released2008_filter[released2008_filter['type'] == 'Movie'])\n",
    "tv_n = len(released2008_filter[released2008_filter['type'] == 'TV Show'])\n",
    "\n",
    "avg_yr_diff = avg_yr_diff.merge(st_dev, on = 'type', how = 'left')\n",
    "avg_yr_diff = avg_yr_diff.merge(n, on = 'type', how = 'left')\n",
    "\n",
    "avg_yr_diff['uci'] = (avg_yr_diff['yr_diff'] + (1.96+avg_yr_diff['std_dev'])/np.sqrt(avg_yr_diff['n']))\n",
    "avg_yr_diff['lci'] = (avg_yr_diff['yr_diff'] - (1.96+avg_yr_diff['std_dev'])/np.sqrt(avg_yr_diff['n']))\n",
    "\n",
    "avg_yr_diff['err_lower'] = avg_yr_diff['yr_diff'] - avg_yr_diff['lci']\n",
    "avg_yr_diff['err_upper'] = avg_yr_diff['uci'] - avg_yr_diff['yr_diff']\n",
    "\n",
    "plt.figure()\n",
    "\n",
    "x = avg_yr_diff['type']\n",
    "y = avg_yr_diff['yr_diff']\n",
    "yerr_lower = avg_yr_diff['err_lower']\n",
    "yerr_upper = avg_yr_diff['err_upper']\n",
    "yerr = [yerr_lower, yerr_upper]\n",
    "\n",
    "avg_yr_diff.plot.bar(x = 'type', y = 'yr_diff')\n",
    "\n",
    "plt.title('Average number of years difference between year released and added to Netflix')\n",
    "plt.ylabel('Average number of years')\n",
    "plt.xlabel(None)\n",
    "plt.legend('')\n",
    "plt.errorbar(x = x, y = y, yerr = yerr, color = \"red\", linestyle = '')\n",
    "\n",
    "plt.show();"
   ]
  }
 ],
 "metadata": {
  "kernelspec": {
   "display_name": "Python 3",
   "language": "python",
   "name": "python3"
  },
  "language_info": {
   "codemirror_mode": {
    "name": "ipython",
    "version": 3
   },
   "file_extension": ".py",
   "mimetype": "text/x-python",
   "name": "python",
   "nbconvert_exporter": "python",
   "pygments_lexer": "ipython3",
   "version": "3.12.1"
  }
 },
 "nbformat": 4,
 "nbformat_minor": 2
}
